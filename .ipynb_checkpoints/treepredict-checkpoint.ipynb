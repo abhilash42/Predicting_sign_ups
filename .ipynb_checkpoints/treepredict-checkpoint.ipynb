{
 "cells": [
  {
   "cell_type": "code",
   "execution_count": 6,
   "metadata": {},
   "outputs": [],
   "source": [
    "import numpy as np\n",
    "from numpy import mean\n",
    "import pandas as pd\n",
    "import matplotlib.pyplot as plt\n",
    "%matplotlib inline"
   ]
  },
  {
   "cell_type": "code",
   "execution_count": 7,
   "metadata": {},
   "outputs": [],
   "source": [
    "my_data=[['slashdot','USA','yes',18,'None'],\n",
    "['google','France','yes',23,'Premium'],\n",
    "['digg','USA','yes',24,'Basic'],\n",
    "['kiwitobes','France','yes',23,'Basic'],\n",
    "['google','UK','no',21,'Premium'],\n",
    "['(direct)','New Zealand','no',12,'None'],\n",
    "['(direct)','UK','no',21,'Basic'],\n",
    "['google','USA','no',24,'Premium'],\n",
    "['slashdot','France','yes',19,'None'],\n",
    "['digg','USA','no',18,'None'],\n",
    "['google','UK','no',18,'None'],\n",
    "['kiwitobes','UK','no',19,'None'],\n",
    "['digg','New Zealand','yes',12,'Basic'],\n",
    "['slashdot','UK','no',21,'None'],\n",
    "['google','UK','yes',18,'Basic'],\n",
    "['kiwitobes','France','yes',19,'Basic']]"
   ]
  },
  {
   "cell_type": "code",
   "execution_count": 2,
   "metadata": {},
   "outputs": [],
   "source": [
    "class decision_node:\n",
    "    def __init__(self,col=-1,value=None,results=None,tb=None,fb=None):\n",
    "        self.col=col\n",
    "        self.value=value\n",
    "        self.results=results\n",
    "        self.tb=tb\n",
    "        self.fb=fb"
   ]
  },
  {
   "cell_type": "code",
   "execution_count": 3,
   "metadata": {},
   "outputs": [
    {
     "data": {
      "text/plain": [
       "[['slashdot', 'USA', 'yes', 18, 'None'],\n",
       " ['google', 'France', 'yes', 23, 'Premium'],\n",
       " ['digg', 'USA', 'yes', 24, 'Basic'],\n",
       " ['kiwitobes', 'France', 'yes', 23, 'Basic'],\n",
       " ['google', 'UK', 'no', 21, 'Premium'],\n",
       " ['(direct)', 'New Zealand', 'no', 12, 'None'],\n",
       " ['(direct)', 'UK', 'no', 21, 'Basic'],\n",
       " ['google', 'USA', 'no', 24, 'Premium'],\n",
       " ['slashdot', 'France', 'yes', 19, 'None'],\n",
       " ['digg', 'USA', 'no', 18, 'None'],\n",
       " ['google', 'UK', 'no', 18, 'None'],\n",
       " ['kiwitobes', 'UK', 'no', 19, 'None'],\n",
       " ['digg', 'New Zealand', 'yes', 12, 'Basic'],\n",
       " ['slashdot', 'UK', 'no', 21, 'None'],\n",
       " ['google', 'UK', 'yes', 18, 'Basic'],\n",
       " ['kiwitobes', 'France', 'yes', 19, 'Basic']]"
      ]
     },
     "execution_count": 3,
     "metadata": {},
     "output_type": "execute_result"
    }
   ],
   "source": [
    "my_data"
   ]
  },
  {
   "cell_type": "code",
   "execution_count": 4,
   "metadata": {},
   "outputs": [],
   "source": [
    "# Divides a set on a specific column. Can handle numeric or nominal values\n",
    "def divide_set(rows,column,value):\n",
    "    # Make a function that tells us if a row is in the first group (true) or the second group (false)\n",
    "    split_function=None\n",
    "    if isinstance(value,int) or isinstance(value,float):\n",
    "        split_function=lambda row:row[column]>=value\n",
    "    else:\n",
    "        split_function=lambda row:row[column]==value\n",
    "        \n",
    "    # Divide the rows into two sets and return\n",
    "    set1=[row for row in rows if split_function(row)]\n",
    "    set2=[row for row in rows if not split_function(row)]\n",
    "    return (set1,set2)\n"
   ]
  },
  {
   "cell_type": "code",
   "execution_count": 45,
   "metadata": {},
   "outputs": [
    {
     "data": {
      "text/plain": [
       "([['slashdot', 'USA', 'yes', 18, 'None'],\n",
       "  ['slashdot', 'France', 'yes', 19, 'None'],\n",
       "  ['slashdot', 'UK', 'no', 21, 'None']],\n",
       " [['google', 'France', 'yes', 23, 'Premium'],\n",
       "  ['digg', 'USA', 'yes', 24, 'Basic'],\n",
       "  ['kiwitobes', 'France', 'yes', 23, 'Basic'],\n",
       "  ['google', 'UK', 'no', 21, 'Premium'],\n",
       "  ['(direct)', 'New Zealand', 'no', 12, 'None'],\n",
       "  ['(direct)', 'UK', 'no', 21, 'Basic'],\n",
       "  ['google', 'USA', 'no', 24, 'Premium'],\n",
       "  ['digg', 'USA', 'no', 18, 'None'],\n",
       "  ['google', 'UK', 'no', 18, 'None'],\n",
       "  ['kiwitobes', 'UK', 'no', 19, 'None'],\n",
       "  ['digg', 'New Zealand', 'yes', 12, 'Basic'],\n",
       "  ['google', 'UK', 'yes', 18, 'Basic'],\n",
       "  ['kiwitobes', 'France', 'yes', 19, 'Basic']])"
      ]
     },
     "execution_count": 45,
     "metadata": {},
     "output_type": "execute_result"
    }
   ],
   "source": [
    "divide_set(my_data,0,'slashdot')"
   ]
  },
  {
   "cell_type": "code",
   "execution_count": 8,
   "metadata": {},
   "outputs": [],
   "source": [
    "my_data_df = pd.DataFrame(my_data)"
   ]
  },
  {
   "cell_type": "code",
   "execution_count": 27,
   "metadata": {},
   "outputs": [
    {
     "name": "stdout",
     "output_type": "stream",
     "text": [
      "{'None': 7, 'Premium': 3, 'Basic': 6}\n"
     ]
    }
   ],
   "source": [
    "# Create counts of possible results (the last column of each row is the result)\n",
    "def unique_counts(rows):\n",
    "    results={}                      #create a results dictionary \n",
    "    for row in rows:\n",
    "        r=row[len(row)-1]\n",
    "        if r not in results: \n",
    "            results[r]=0\n",
    "        results[r]+=1\n",
    "    return results\n",
    "results = unique_counts(my_data)\n",
    "print(results)"
   ]
  },
  {
   "cell_type": "code",
   "execution_count": 30,
   "metadata": {},
   "outputs": [],
   "source": [
    "# Probability that a randomly placed item will be in the wrong category\n",
    "def gini_impurity(rows):\n",
    "    total=len(rows)\n",
    "    counts=unique_counts(rows)\n",
    "    imp=0\n",
    "    for k1 in counts:\n",
    "        p1=float(counts[k1])/total\n",
    "        for k2 in counts:\n",
    "            if k1==k2:continue\n",
    "            p2=float(counts[k2])/total\n",
    "            imp+=p1*p2\n",
    "    return imp\n",
    "        "
   ]
  },
  {
   "cell_type": "code",
   "execution_count": 33,
   "metadata": {},
   "outputs": [
    {
     "data": {
      "text/plain": [
       "0.53125"
      ]
     },
     "execution_count": 33,
     "metadata": {},
     "output_type": "execute_result"
    }
   ],
   "source": [
    "gini_impurity(my_data)\n",
    "set1,set2=divide_set(my_data,2,'yes')\n",
    "gini_impurity(set2)"
   ]
  },
  {
   "cell_type": "code",
   "execution_count": 34,
   "metadata": {},
   "outputs": [],
   "source": [
    "# Entropy is the sum of p(x)log(p(x)) across all the different possible results\n",
    "def entropy(rows):\n",
    "    from math import log\n",
    "    log2=lambda x:log(x)/log(2)\n",
    "    results=unique_counts(rows)\n",
    "    #Calculate the entropy\n",
    "    ent=0.0\n",
    "    for r in results.keys():\n",
    "        p=float(results[r])/len(rows)\n",
    "        ent=ent-p*log2(p)\n",
    "    return ent\n"
   ]
  },
  {
   "cell_type": "code",
   "execution_count": 39,
   "metadata": {},
   "outputs": [
    {
     "data": {
      "text/plain": [
       "[['slashdot', 'USA', 'yes', 18, 'None'],\n",
       " ['google', 'France', 'yes', 23, 'Premium'],\n",
       " ['digg', 'USA', 'yes', 24, 'Basic'],\n",
       " ['kiwitobes', 'France', 'yes', 23, 'Basic'],\n",
       " ['google', 'UK', 'no', 21, 'Premium'],\n",
       " ['(direct)', 'New Zealand', 'no', 12, 'None'],\n",
       " ['(direct)', 'UK', 'no', 21, 'Basic'],\n",
       " ['google', 'USA', 'no', 24, 'Premium'],\n",
       " ['slashdot', 'France', 'yes', 19, 'None'],\n",
       " ['digg', 'USA', 'no', 18, 'None'],\n",
       " ['google', 'UK', 'no', 18, 'None'],\n",
       " ['kiwitobes', 'UK', 'no', 19, 'None'],\n",
       " ['digg', 'New Zealand', 'yes', 12, 'Basic'],\n",
       " ['slashdot', 'UK', 'no', 21, 'None'],\n",
       " ['google', 'UK', 'yes', 18, 'Basic'],\n",
       " ['kiwitobes', 'France', 'yes', 19, 'Basic']]"
      ]
     },
     "execution_count": 39,
     "metadata": {},
     "output_type": "execute_result"
    }
   ],
   "source": [
    "entropy(my_data)\n",
    "my_data"
   ]
  },
  {
   "cell_type": "code",
   "execution_count": 53,
   "metadata": {},
   "outputs": [],
   "source": [
    "def build_tree(rows,scoref=entropy):\n",
    "    if len(rows)==0:return  decision_node()\n",
    "    current_score=scoref(rows)\n",
    "    \n",
    "    #Set up some variables to track the best criteria\n",
    "    best_gain=0.0\n",
    "    best_criteria=None\n",
    "    best_sets=None\n",
    "    \n",
    "    column_count=len(rows[0])-1\n",
    "    for col in range(0,column_count):\n",
    "        column_values={}\n",
    "        for row in rows:\n",
    "            column_values[row[col]]=1\n",
    "        # Now try dividing the rows up for each value in this column\n",
    "        for value in column_values.keys():\n",
    "            set1,set2=divide_set(rows,col,value)\n",
    "            \n",
    "            #Information gain\n",
    "            p=float(len(set1))/len(rows)\n",
    "            q=float(len(set2))/len(rows)\n",
    "            gain=current_score-p*scoref(set1)-q*scoref(set2)\n",
    "            if gain>best_gain and len(set1)>0 and len(set2)>0:\n",
    "                best_gain=gain\n",
    "                best_criteria=(col,value)\n",
    "                best_sets=(set1,set2)\n",
    "    #Create the subbranches\n",
    "    if best_gain>0:\n",
    "        trueBranch=build_tree(best_sets[0])\n",
    "        falseBranch=build_tree(best_sets[1])\n",
    "        return decision_node(col=best_criteria[0],value=best_criteria[1],tb=trueBranch,fb=falseBranch)\n",
    "    else:\n",
    "        return decision_node(results=unique_counts(rows))\n",
    "\n",
    "tree=build_tree(my_data)"
   ]
  },
  {
   "cell_type": "code",
   "execution_count": 61,
   "metadata": {},
   "outputs": [
    {
     "name": "stdout",
     "output_type": "stream",
     "text": [
      "0:google?\n",
      "T->\n",
      "3:21?\n",
      " T->\n",
      "{'Premium': 3}\n",
      " F->\n",
      "2:no?\n",
      "  T->\n",
      "{'None': 1}\n",
      "  F->\n",
      "{'Basic': 1}\n",
      "F->\n",
      "0:slashdot?\n",
      " T->\n",
      "{'None': 3}\n",
      " F->\n",
      "2:yes?\n",
      "  T->\n",
      "{'Basic': 4}\n",
      "  F->\n",
      "3:21?\n",
      "   T->\n",
      "{'Basic': 1}\n",
      "   F->\n",
      "{'None': 3}\n"
     ]
    }
   ],
   "source": [
    "def print_tree(tree,indent=''):\n",
    "    # Is this leaf node?\n",
    "    if tree.results!=None:\n",
    "        print(str(tree.results))\n",
    "    else:\n",
    "        #Print the criteria\n",
    "        print(str(tree.col)+':'+str(tree.value)+'?')\n",
    "        \n",
    "        #Print the branches\n",
    "        print(indent+'T->')\n",
    "        print_tree(tree.tb,indent+' ')\n",
    "        print(indent+'F->')\n",
    "        print_tree(tree.fb,indent+' ')\n",
    "print_tree(tree)       "
   ]
  },
  {
   "cell_type": "code",
   "execution_count": 62,
   "metadata": {},
   "outputs": [],
   "source": [
    "def getwidth(tree):\n",
    "    if tree.tb==None and tree.fb==None: return 1\n",
    "    return getwidth(tree.tb)+getwidth(tree.fb)"
   ]
  },
  {
   "cell_type": "code",
   "execution_count": 63,
   "metadata": {},
   "outputs": [],
   "source": [
    "def getdepth(tree):\n",
    "    if tree.tb==None and tree.fb==None: return 0\n",
    "    return max(getdepth(tree.tb),getdepth(tree.fb))+1"
   ]
  },
  {
   "cell_type": "code",
   "execution_count": 64,
   "metadata": {},
   "outputs": [],
   "source": [
    "from PIL import Image,ImageDraw"
   ]
  },
  {
   "cell_type": "code",
   "execution_count": 66,
   "metadata": {},
   "outputs": [],
   "source": [
    "def drawtree(tree,jpeg='tree.jpg'):\n",
    "    w=getwidth(tree)*100\n",
    "    h=getdepth(tree)*100+120\n",
    "    img=Image.new('RGB',(w,h),(255,255,255))\n",
    "    draw=ImageDraw.Draw(img)\n",
    "    drawnode(draw,tree,w/2,20)\n",
    "    img.save(jpeg,'JPEG')"
   ]
  },
  {
   "cell_type": "code",
   "execution_count": 68,
   "metadata": {},
   "outputs": [],
   "source": [
    "def drawnode(draw,tree,x,y):\n",
    "    if tree.results==None:\n",
    "        # Get the width of each branch\n",
    "        w1=getwidth(tree.fb)*100\n",
    "        w2=getwidth(tree.tb)*100\n",
    "        # Determine the total space required by this node\n",
    "        left=x-(w1+w2)/2\n",
    "        right=x+(w1+w2)/2\n",
    "        # Draw the condition string\n",
    "        draw.text((x-20,y-10),str(tree.col)+':'+str(tree.value),(0,0,0))\n",
    "        # Draw links to the branches\n",
    "        draw.line((x,y,left+w1/2,y+100),fill=(255,0,0))\n",
    "        draw.line((x,y,right-w2/2,y+100),fill=(255,0,0))\n",
    "        # Draw the branch nodes\n",
    "        drawnode(draw,tree.fb,left+w1/2,y+100)\n",
    "        drawnode(draw,tree.tb,right-w2/2,y+100)\n",
    "    else:\n",
    "        txt=' \\n'.join(['%s:%d'%v for v in tree.results.items( )])\n",
    "        draw.text((x-20,y),txt,(0,0,0))"
   ]
  },
  {
   "cell_type": "code",
   "execution_count": 69,
   "metadata": {},
   "outputs": [],
   "source": [
    "drawtree(tree,jpeg='treeview.jpg')"
   ]
  },
  {
   "cell_type": "code",
   "execution_count": 73,
   "metadata": {},
   "outputs": [],
   "source": [
    "#Classify new observations \n",
    "def classify(observation,tree):\n",
    "    if tree.results!=None:\n",
    "        return tree.results\n",
    "    else:\n",
    "        v=observation[tree.col]\n",
    "        branch=None\n",
    "        if isinstance(v,int)or isinstance(v,float):\n",
    "            if v>tree.value:branch=tree.tb\n",
    "            else:\n",
    "                branch=tree.fb\n",
    "        else:\n",
    "            if v==tree.value:branch=tree.tb\n",
    "            else:branch=tree.fb\n",
    "        return classify(observation,branch)\n"
   ]
  },
  {
   "cell_type": "code",
   "execution_count": 78,
   "metadata": {},
   "outputs": [
    {
     "data": {
      "text/plain": [
       "{'Basic': 4}"
      ]
     },
     "execution_count": 78,
     "metadata": {},
     "output_type": "execute_result"
    }
   ],
   "source": [
    "classify(['(direct)','USA','yes',5],tree)\n",
    "classify(['(direct)','USA','yes',21],tree)"
   ]
  },
  {
   "cell_type": "code",
   "execution_count": null,
   "metadata": {},
   "outputs": [],
   "source": []
  }
 ],
 "metadata": {
  "kernelspec": {
   "display_name": "Python 3",
   "language": "python",
   "name": "python3"
  },
  "language_info": {
   "codemirror_mode": {
    "name": "ipython",
    "version": 3
   },
   "file_extension": ".py",
   "mimetype": "text/x-python",
   "name": "python",
   "nbconvert_exporter": "python",
   "pygments_lexer": "ipython3",
   "version": "3.6.4"
  }
 },
 "nbformat": 4,
 "nbformat_minor": 2
}
