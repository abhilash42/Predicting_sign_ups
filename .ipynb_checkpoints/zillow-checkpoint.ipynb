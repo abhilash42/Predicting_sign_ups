{
 "cells": [
  {
   "cell_type": "code",
   "execution_count": 31,
   "metadata": {},
   "outputs": [],
   "source": [
    "import urllib.request\n",
    "import sys\n",
    "import xml.dom.minidom\n",
    "import treepredict\n",
    "from importlib import reload"
   ]
  },
  {
   "cell_type": "code",
   "execution_count": 3,
   "metadata": {},
   "outputs": [],
   "source": [
    "zwskey=\"X1-ZWz1gc7u3f5o97_aroxz\""
   ]
  },
  {
   "cell_type": "code",
   "execution_count": 4,
   "metadata": {},
   "outputs": [
    {
     "name": "stdout",
     "output_type": "stream",
     "text": [
      "http://www.zillow.com/webservice/GetDeepSearchResults.htm?zws-id=X1-ZWz1gc7u3f5o97_aroxz&address=21+Manassas&citystatezip=Cambridge,MA\n",
      "<xml.dom.minidom.Document object at 0x7f54242c0168>\n"
     ]
    },
    {
     "data": {
      "text/plain": [
       "('02138', 'SingleFamily', 1847, 1.5, 2, 1, '918878')"
      ]
     },
     "execution_count": 4,
     "metadata": {},
     "output_type": "execute_result"
    }
   ],
   "source": [
    "def getaddressdata(address,city):\n",
    "    escad=address.replace(' ','+')\n",
    "    #URL\n",
    "    url='http://www.zillow.com/webservice/GetDeepSearchResults.htm?'\n",
    "    url+='zws-id=%s&address=%s&citystatezip=%s'%(zwskey,escad,city)\n",
    "    print(url)\n",
    "    #Parse XML\n",
    "    doc=xml.dom.minidom.parseString(urllib.request.urlopen(url).read())\n",
    "    code=doc.getElementsByTagName('code')[0].firstChild.data\n",
    "    \n",
    "    if code!='0':return None\n",
    "    if 1:\n",
    "        zipcode=doc.getElementsByTagName('zipcode')[0].firstChild.data\n",
    "        use=doc.getElementsByTagName('useCode')[0].firstChild.data\n",
    "        year=doc.getElementsByTagName('yearBuilt')[0].firstChild.data\n",
    "        sqft=doc.getElementsByTagName('finishedSqFt')[0].firstChild.data\n",
    "        bath=doc.getElementsByTagName('bathrooms')[0].firstChild.data\n",
    "        bed=doc.getElementsByTagName('bedrooms')[0].firstChild.data\n",
    "        rooms=1 #doc.getElementsByTagName('totalRooms')[0].firstChild.data\n",
    "        price=doc.getElementsByTagName('amount')[0].firstChild.data\n",
    "    else:\n",
    "        return None\n",
    "    print(doc)\n",
    "    return (zipcode,use,int(year),float(bath),int(bed),int(rooms),price)\n",
    "getaddressdata('21 Manassas','Cambridge,MA')"
   ]
  },
  {
   "cell_type": "code",
   "execution_count": null,
   "metadata": {},
   "outputs": [],
   "source": [
    "def getpricelist():\n",
    "    l1=[]\n",
    "    lines = open('addresslist.txt').read().split(\"\\n\")\n",
    "    print(lines)\n",
    "    cnt=0\n",
    "    for address in lines:\n",
    "        print(cnt)\n",
    "        cnt=cnt+1\n",
    "        try:\n",
    "            data=getaddressdata(address,'Cambridge,MA')\n",
    "            l1.append(data)\n",
    "        except:\n",
    "            continue\n",
    "        #print(data)\n",
    "    return l1\n",
    "l1=getpricelist()"
   ]
  },
  {
   "cell_type": "code",
   "execution_count": 22,
   "metadata": {},
   "outputs": [
    {
     "name": "stdout",
     "output_type": "stream",
     "text": [
      "[('02138', 'SingleFamily', 1847, 1.5, 2, 1, '918878'), ('02139', 'Triplex', 1884, 3.5, 5, 1, '1775414'), ('02138', 'Townhouse', 1925, 1.0, 1, 1, '772608'), ('02138', 'Condominium', 1900, 1.0, 2, 1, '888869'), ('02138', 'Triplex', 1916, 4.5, 9, 1, '4001676'), ('02138', 'Condominium', 1910, 1.0, 1, 1, '494311'), ('02140', 'Duplex', 1894, 3.5, 3, 1, '1559936'), ('02138', 'SingleFamily', 1925, 3.0, 3, 1, '4332453'), ('02140', 'SingleFamily', 1894, 2.5, 4, 1, '2684542'), ('02140', 'SingleFamily', 1894, 2.5, 4, 1, '2302273'), ('02138', 'SingleFamily', 1956, 3.0, 4, 1, '1565760'), ('02140', 'SingleFamily', 1899, 1.5, 3, 1, '840230'), ('02138', 'MultiFamily2To4', 1927, 1.0, 2, 1, '1216525'), None, ('02140', 'Condominium', 1920, 1.0, 2, 1, '687916'), ('02138', 'MultiFamily2To4', 1900, 1.0, 1, 1, '497372'), ('02139', 'Condominium', 1987, 2.5, 2, 1, '941337'), ('02139', 'Duplex', 1894, 2.5, 2, 1, '966364'), ('02139', 'Condominium', 1820, 1.5, 2, 1, '834016'), ('02139', 'Duplex', 1854, 2.5, 4, 1, '1301246'), None, ('02138', 'Duplex', 1909, 3.5, 5, 1, '1724608'), ('02139', 'SingleFamily', 1854, 1.0, 2, 1, '1677019'), ('02138', 'Condominium', 1922, 1.5, 1, 1, '774332'), ('02140', 'MultiFamily2To4', 1897, 1.0, 2, 1, '1450402'), ('02138', 'Condominium', 1985, 3.5, 4, 1, '2698112'), ('02141', 'SingleFamily', 1984, 2.5, 3, 1, '1122986'), ('02139', 'Condominium', 1996, 1.5, 3, 1, '537562'), ('02138', 'Condominium', 1880, 1.5, 3, 1, '1141151'), ('02139', 'Duplex', 1854, 3.5, 6, 1, '1537940'), ('02139', 'SingleFamily', 1873, 1.5, 2, 1, '990723'), ('02138', 'SingleFamily', 2009, 3.5, 4, 1, '4327376'), ('02138', 'SingleFamily', 1948, 1.5, 3, 1, '698857'), None, None, None, ('02139', 'Condominium', 1903, 1.0, 3, 1, '893216'), ('02139', 'MultiFamily2To4', 1903, 2.0, 3, 1, '2009783'), ('02140', 'Condominium', 1998, 2.5, 3, 1, '1353487'), ('02139', 'Duplex', 1854, 3.5, 6, 1, '1537940'), ('02138', 'Condominium', 1900, 1.0, 2, 1, '783625')]\n"
     ]
    }
   ],
   "source": [
    "print(l1)"
   ]
  },
  {
   "cell_type": "code",
   "execution_count": 39,
   "metadata": {},
   "outputs": [
    {
     "data": {
      "text/plain": [
       "[('02138', 'SingleFamily', 1847, 1.5, 2, 1, '918878'),\n",
       " ('02139', 'Triplex', 1884, 3.5, 5, 1, '1775414'),\n",
       " ('02138', 'Townhouse', 1925, 1.0, 1, 1, '772608'),\n",
       " ('02138', 'Condominium', 1900, 1.0, 2, 1, '888869'),\n",
       " ('02138', 'Triplex', 1916, 4.5, 9, 1, '4001676'),\n",
       " ('02138', 'Condominium', 1910, 1.0, 1, 1, '494311'),\n",
       " ('02140', 'Duplex', 1894, 3.5, 3, 1, '1559936'),\n",
       " ('02138', 'SingleFamily', 1925, 3.0, 3, 1, '4332453'),\n",
       " ('02140', 'SingleFamily', 1894, 2.5, 4, 1, '2684542'),\n",
       " ('02140', 'SingleFamily', 1894, 2.5, 4, 1, '2302273'),\n",
       " ('02138', 'SingleFamily', 1956, 3.0, 4, 1, '1565760'),\n",
       " ('02140', 'SingleFamily', 1899, 1.5, 3, 1, '840230'),\n",
       " ('02138', 'MultiFamily2To4', 1927, 1.0, 2, 1, '1216525'),\n",
       " ('02140', 'Condominium', 1920, 1.0, 2, 1, '687916'),\n",
       " ('02138', 'MultiFamily2To4', 1900, 1.0, 1, 1, '497372'),\n",
       " ('02139', 'Condominium', 1987, 2.5, 2, 1, '941337'),\n",
       " ('02139', 'Duplex', 1894, 2.5, 2, 1, '966364'),\n",
       " ('02139', 'Condominium', 1820, 1.5, 2, 1, '834016'),\n",
       " ('02139', 'Duplex', 1854, 2.5, 4, 1, '1301246'),\n",
       " ('02138', 'Duplex', 1909, 3.5, 5, 1, '1724608'),\n",
       " ('02139', 'SingleFamily', 1854, 1.0, 2, 1, '1677019'),\n",
       " ('02138', 'Condominium', 1922, 1.5, 1, 1, '774332'),\n",
       " ('02140', 'MultiFamily2To4', 1897, 1.0, 2, 1, '1450402'),\n",
       " ('02138', 'Condominium', 1985, 3.5, 4, 1, '2698112'),\n",
       " ('02141', 'SingleFamily', 1984, 2.5, 3, 1, '1122986'),\n",
       " ('02139', 'Condominium', 1996, 1.5, 3, 1, '537562'),\n",
       " ('02138', 'Condominium', 1880, 1.5, 3, 1, '1141151'),\n",
       " ('02139', 'Duplex', 1854, 3.5, 6, 1, '1537940'),\n",
       " ('02139', 'SingleFamily', 1873, 1.5, 2, 1, '990723'),\n",
       " ('02138', 'SingleFamily', 2009, 3.5, 4, 1, '4327376'),\n",
       " ('02138', 'SingleFamily', 1948, 1.5, 3, 1, '698857'),\n",
       " ('02139', 'Condominium', 1903, 1.0, 3, 1, '893216'),\n",
       " ('02139', 'MultiFamily2To4', 1903, 2.0, 3, 1, '2009783'),\n",
       " ('02140', 'Condominium', 1998, 2.5, 3, 1, '1353487'),\n",
       " ('02139', 'Duplex', 1854, 3.5, 6, 1, '1537940'),\n",
       " ('02138', 'Condominium', 1900, 1.0, 2, 1, '783625')]"
      ]
     },
     "execution_count": 39,
     "metadata": {},
     "output_type": "execute_result"
    }
   ],
   "source": [
    "l1=list(filter(None.__ne__,l1))\n",
    "l1"
   ]
  },
  {
   "cell_type": "code",
   "execution_count": 37,
   "metadata": {},
   "outputs": [],
   "source": [
    "housetree=treepredict.build_tree(l1,scoref=treepredict.variance)"
   ]
  },
  {
   "cell_type": "code",
   "execution_count": 38,
   "metadata": {},
   "outputs": [],
   "source": [
    "treepredict.drawtree(housetree,'housetree.jpg')"
   ]
  },
  {
   "cell_type": "code",
   "execution_count": null,
   "metadata": {},
   "outputs": [],
   "source": []
  }
 ],
 "metadata": {
  "kernelspec": {
   "display_name": "Python 3",
   "language": "python",
   "name": "python3"
  },
  "language_info": {
   "codemirror_mode": {
    "name": "ipython",
    "version": 3
   },
   "file_extension": ".py",
   "mimetype": "text/x-python",
   "name": "python",
   "nbconvert_exporter": "python",
   "pygments_lexer": "ipython3",
   "version": "3.6.4"
  }
 },
 "nbformat": 4,
 "nbformat_minor": 2
}
